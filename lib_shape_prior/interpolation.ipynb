{
 "cells": [
  {
   "cell_type": "code",
   "execution_count": null,
   "metadata": {},
   "outputs": [],
   "source": [
    "%load_ext autoreload\n",
    "%autoreload 2\n",
    "\n",
    "import numpy as np\n",
    "%matplotlib inline\n",
    "import torch\n",
    "from torch import nn, einsum\n",
    "import torch.nn.functional as F\n",
    "\n",
    "from skimage import measure\n",
    "import matplotlib.pyplot as plt\n",
    "import plotly\n",
    "import plotly.graph_objs as go\n",
    "\n",
    "\n",
    "from ddpm import *\n",
    "from viz_x import viz_x\n",
    "\n",
    "device = \"cuda\""
   ]
  },
  {
   "cell_type": "code",
   "execution_count": null,
   "metadata": {},
   "outputs": [],
   "source": [
    "from core.models import get_model\n",
    "from dataset import get_dataset\n",
    "from init import get_cfg, setup_seed, dev_get_cfg\n",
    "\n",
    "# preparer configuration\n",
    "category = \"mugs\"\n",
    "# category = \"kit4cates\"\n",
    "# category = \"chairs\"\n",
    "cfg  =dev_get_cfg(category)\n",
    "# prepare models\n",
    "ModelClass = get_model(cfg[\"model\"][\"model_name\"])\n",
    "model = ModelClass(cfg)\n",
    "ckpt_path = f\"/home/ziran/se3/EFEM/weights/{category}.pt\"\n",
    "# ckpt_path = f\"/home/ziran/se3/EFEM/lib_shape_prior/log/12_10_shape_prior_mugs_old/12_10_shape_prior_mugs_FOR_hopefullybetterAE/checkpoint/15409.pt\"\n",
    "ckpt = torch.load(ckpt_path)\n",
    "model.network.load_state_dict(ckpt['model_state_dict'])\n",
    "model.network.to(device)\n",
    "\n",
    "# prepare dataset\n",
    "DatasetClass = get_dataset(cfg)\n",
    "datasets_dict = dict()\n",
    "for mode in cfg[\"modes\"]:\n",
    "    datasets_dict[mode] = DatasetClass(cfg, mode=mode)\n",
    "\n",
    "train_ds = datasets_dict[\"train\"]"
   ]
  },
  {
   "cell_type": "code",
   "execution_count": null,
   "metadata": {},
   "outputs": [],
   "source": [
    "codebook_path = f\"/home/ziran/se3/EFEM/cache/mugs.npz\"\n",
    "# codebook_path = f\"/home/ziran/se3/EFEM/lib_shape_prior/log/12_10_shape_prior_mugs_old/12_10_shape_prior_mugs_FOR_hopefullybetterAE/codebook.npz\"\n",
    "train_ds = CustomDataset(codebook_path)\n"
   ]
  },
  {
   "cell_type": "code",
   "execution_count": null,
   "metadata": {},
   "outputs": [],
   "source": [
    "import random\n",
    "\n",
    "idx_1, idx_2 = random.randint(0, 148), random.randint(0, 148)\n",
    "print(idx_1, idx_2)\n",
    "x_1 = train_ds[idx_1][0].to(device)\n",
    "x_2 = train_ds[idx_2][0].to(device)\n",
    "\n",
    "bs = 5\n",
    "inter_range_list = np.linspace(0, 1, bs)\n",
    "print(inter_range_list)\n",
    "x_inter_list = [(1-alpha) * x_1+ alpha * x_2 for alpha in inter_range_list]\n",
    "x_inter = torch.stack(x_inter_list, dim=0)\n",
    "print(x_inter.shape)"
   ]
  },
  {
   "cell_type": "code",
   "execution_count": null,
   "metadata": {},
   "outputs": [],
   "source": [
    "viz_x(x_inter[:,:,:], model, device)"
   ]
  },
  {
   "cell_type": "code",
   "execution_count": null,
   "metadata": {},
   "outputs": [],
   "source": [
    "from_codebook = torch.stack([train_ds[idx][0] for idx in range(10)], dim=0).to(device)\n",
    "viz_x(from_codebook, model)"
   ]
  },
  {
   "cell_type": "code",
   "execution_count": null,
   "metadata": {},
   "outputs": [],
   "source": [
    "import random\n",
    "\n",
    "idx_1, idx_2, idx_3 = random.randint(0, 148), random.randint(0, 148), random.randint(0, 148)\n",
    "print(idx_1, idx_2, idx_3)\n",
    "x_1 = train_ds[idx_1][0].to(device)\n",
    "x_2 = train_ds[idx_2][0].to(device)\n",
    "x_3 = train_ds[idx_3][0].to(device)\n",
    "\n",
    "bs = 10\n",
    "inter_range_list = np.linspace(0, 1, bs)\n",
    "print(inter_range_list)\n",
    "x_inter_list = [(1-alpha) * x_1+ alpha/2 * x_2+ alpha/2*x_3 for alpha in inter_range_list]\n",
    "x_inter = torch.stack(x_inter_list, dim=0)\n",
    "print(x_inter.shape)\n"
   ]
  },
  {
   "cell_type": "code",
   "execution_count": null,
   "metadata": {},
   "outputs": [],
   "source": [
    "viz_x(x_inter, model)"
   ]
  }
 ],
 "metadata": {
  "kernelspec": {
   "display_name": "pytorch3d",
   "language": "python",
   "name": "python3"
  },
  "language_info": {
   "codemirror_mode": {
    "name": "ipython",
    "version": 3
   },
   "file_extension": ".py",
   "mimetype": "text/x-python",
   "name": "python",
   "nbconvert_exporter": "python",
   "pygments_lexer": "ipython3",
   "version": "3.8.18"
  }
 },
 "nbformat": 4,
 "nbformat_minor": 2
}
