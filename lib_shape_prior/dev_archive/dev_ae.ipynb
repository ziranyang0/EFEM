{
 "cells": [
  {
   "cell_type": "code",
   "execution_count": 1,
   "metadata": {},
   "outputs": [
    {
     "name": "stderr",
     "output_type": "stream",
     "text": [
      "| sim3vec-mugs | user-AS-4124GS-TNR | INFO | Dec-04-22:56:13 | Set GPU: 0 ...   [post_config.py:99]\n",
      "| sim3vec-mugs | user-AS-4124GS-TNR | INFO | Dec-04-22:56:13 | Save configuration to local file...   [post_config.py:105]\n",
      "| sim3vec-mugs | user-AS-4124GS-TNR | INFO | Dec-04-22:56:13 | Dataset train with 100.0% data, dataset len is 149, total len is 149   [shapenet_new2.py:203]\n",
      "| sim3vec-mugs | user-AS-4124GS-TNR | INFO | Dec-04-22:56:13 | Caching train dataset...   [shapenet_new2.py:231]\n"
     ]
    },
    {
     "name": "stdout",
     "output_type": "stream",
     "text": [
      "================================================================================\n",
      "Please check the configuration\n",
      "--------------------------------------------------------------------------------\n",
      "{'dataset': {'aug_ratio': 0.7,\n",
      "             'categories': ['03797390'],\n",
      "             'data_root': '../data/ShapeNetV1_SDF',\n",
      "             'dataset_name': 'shapenet_new2',\n",
      "             'dataset_proportion': [1.0, 1.0],\n",
      "             'dataset_root': 'resource/data/XXXX',\n",
      "             'dep_max_use_view': 12,\n",
      "             'dep_min_use_view': 4,\n",
      "             'dep_total_view': 12,\n",
      "             'depth_postfix': '_dep_small',\n",
      "             'field_mode': 'sdf',\n",
      "             'indices': {'test_index': 'None',\n",
      "                         'train_index': 'None',\n",
      "                         'val_index': 'None'},\n",
      "             'input_mode': 'dep',\n",
      "             'n_pcl': 512,\n",
      "             'n_query_eval': 10000,\n",
      "             'n_query_nss': 1024,\n",
      "             'n_query_uni': 1024,\n",
      "             'noise_std': 0.01,\n",
      "             'num_workers': 8,\n",
      "             'pin_mem': True,\n",
      "             'ram_cache': True,\n",
      "             'random_ball_removal_max_k': 25,\n",
      "             'random_ball_removal_noise_std': 0.05,\n",
      "             'random_ball_removal_prob': 0.7,\n",
      "             'random_object_center_L': 0.1,\n",
      "             'random_object_center_near_surface': True,\n",
      "             'random_object_prob': 0.7,\n",
      "             'random_object_radius': 0.15,\n",
      "             'random_object_radius_std': 0.09,\n",
      "             'random_object_scale': [0.5, 2.0],\n",
      "             'random_plane_ground_range': 0.2,\n",
      "             'random_plane_ground_scale': [0.4, 1.0],\n",
      "             'random_plane_prob': 0.0,\n",
      "             'random_plane_vertical_height_range': [0.4, 1.0],\n",
      "             'random_plane_vertical_horizon_range': [0.0, 0.5],\n",
      "             'random_plane_vertical_prob': 0.0,\n",
      "             'random_plane_vertical_scale': [0.05, 0.5],\n",
      "             'shapenet_split_fn': './splits/all.csv',\n",
      "             'use_augmentation': True,\n",
      "             'use_dataset': True},\n",
      " 'enable_anomaly': False,\n",
      " 'evaluation': {'batch_size': 4,\n",
      "                'eval_every_epoch': 1,\n",
      "                'eval_every_iter': 1000,\n",
      "                'iou_threshold': 0.5},\n",
      " 'generation': {'occ_if_meshing_cfg': {'batch_pts': 8000,\n",
      "                                       'refinement_step': 0,\n",
      "                                       'resolution_0': 32,\n",
      "                                       'simplify_nfaces': 5000,\n",
      "                                       'threshold': 0.5,\n",
      "                                       'upsampling_steps': 2,\n",
      "                                       'use_sampling': False}},\n",
      " 'gpu': '0',\n",
      " 'logging': {'backup_files': ['run.py'],\n",
      "             'checkpoint_epoch': 100,\n",
      "             'checkpoint_iter': 1000,\n",
      "             'debug_mode': False,\n",
      "             'log_dir': 'shape_prior_mugs',\n",
      "             'loggers': ['mesh',\n",
      "                         'image',\n",
      "                         'hist',\n",
      "                         'video',\n",
      "                         'xls',\n",
      "                         'checkpoint',\n",
      "                         'metric'],\n",
      "             'model_select_larger': True,\n",
      "             'model_select_metric': 'iou',\n",
      "             'viz_epoch_interval': 1,\n",
      "             'viz_iter_interval': 1000,\n",
      "             'viz_nontrain_batch_interval': 5,\n",
      "             'viz_nontrain_interval': 1,\n",
      "             'viz_one_per_batch': True,\n",
      "             'viz_training_batch_interval': 30},\n",
      " 'method': 'sim3vec-mugs',\n",
      " 'model': {'center_aug_std': 0.05,\n",
      "           'decoder': {'hidden_size': 256,\n",
      "                       'input_dim': 513,\n",
      "                       'leaky': False,\n",
      "                       'legacy': False},\n",
      "           'decoder_type': 'inner',\n",
      "           'encoder': {'atten_multi_head_c': 16,\n",
      "                       'atten_start_layer': 100,\n",
      "                       'c_dim': 256,\n",
      "                       'center_pred': True,\n",
      "                       'down_sample_factor': [2, 4, 4],\n",
      "                       'down_sample_layers': [2, 4, 5],\n",
      "                       'feat_dim': [32, 32, 64, 64, 128, 256, 512],\n",
      "                       'leak_neg_slope': 0.2,\n",
      "                       'num_knn': 16,\n",
      "                       'num_layers': 7,\n",
      "                       'res_global_start_layer': 2,\n",
      "                       'scale_factor': 64000.0,\n",
      "                       'use_dg': True,\n",
      "                       'use_res_global_conv': True},\n",
      "           'encoder_64': False,\n",
      "           'encoder_type': 'vecdgcnn_atten',\n",
      "           'loss_far_lambda': 0.5,\n",
      "           'loss_near_lambda': 1.0,\n",
      "           'loss_th': 0.1,\n",
      "           'model_name': 'sim3sdf_vanilla',\n",
      "           'sdf2occ_factor': -1.0,\n",
      "           'w_nss': 0.5,\n",
      "           'w_recon': 1.0,\n",
      "           'w_s': 0.001,\n",
      "           'w_t': 0.2,\n",
      "           'w_uni': 0.5},\n",
      " 'modes': ['train', 'val'],\n",
      " 'rand_seed': 12345,\n",
      " 'resume': 'None',\n",
      " 'root': '/home/ziran/se3/EFEM/lib_shape_prior',\n",
      " 'runner': 'solver_v2',\n",
      " 'training': {'batch_size': 32,\n",
      "              'clear_phase_cache': False,\n",
      "              'grad_clip': 4.0,\n",
      "              'initialize_network_file': [],\n",
      "              'initialize_network_name': [],\n",
      "              'loss_clip': 4.0,\n",
      "              'optim': {'all': {'decay_factor': [0.3, 0.3, 0.3],\n",
      "                                'decay_schedule': [50000, 60000, 70000],\n",
      "                                'lr': 0.0001,\n",
      "                                'lr_min': 1e-08}},\n",
      "              'total_epoch': 10,\n",
      "              'total_iter': 80000}}\n",
      "--------------------------------------------------------------------------------\n",
      "y/n?y Warning, NO INTERACTIVE CONFIRM!\n",
      "================================================================================\n",
      "Warning! No resume but log dir: /home/ziran/se3/EFEM/lib_shape_prior/log/shape_prior_mugs exists. Remove the old dir? y/n\n",
      "y Warning, NO INTERACTIVE CONFIRMATION, RENAME OLD LOG DIR!\n",
      "Log dir confirmed...\n"
     ]
    },
    {
     "name": "stderr",
     "output_type": "stream",
     "text": [
      "100%|██████████| 149/149 [00:03<00:00, 37.79it/s]\n",
      "| sim3vec-mugs | user-AS-4124GS-TNR | INFO | Dec-04-22:56:17 | Dataset val with 100.0% data, dataset len is 22, total len is 22   [shapenet_new2.py:203]\n",
      "| sim3vec-mugs | user-AS-4124GS-TNR | INFO | Dec-04-22:56:17 | Caching val dataset...   [shapenet_new2.py:231]\n",
      "100%|██████████| 22/22 [00:00<00:00, 31.35it/s]\n"
     ]
    }
   ],
   "source": [
    "%load_ext autoreload\n",
    "%autoreload 2\n",
    "import torch\n",
    "import numpy as np\n",
    "\n",
    "from dataset import get_dataset\n",
    "from logger import Logger\n",
    "from core.models import get_model\n",
    "from core import solver_dict\n",
    "from init import get_cfg, setup_seed, dev_get_cfg\n",
    "\n",
    "# preparer configuration\n",
    "cfg  =dev_get_cfg()\n",
    "\n",
    "# prepare dataset\n",
    "DatasetClass = get_dataset(cfg)\n",
    "datasets_dict = dict()\n",
    "for mode in cfg[\"modes\"]:\n",
    "    datasets_dict[mode] = DatasetClass(cfg, mode=mode)\n"
   ]
  },
  {
   "cell_type": "code",
   "execution_count": 3,
   "metadata": {},
   "outputs": [
    {
     "data": {
      "text/plain": [
       "<dataset.shapenet_new2.Dataset at 0x7fe9d4126040>"
      ]
     },
     "execution_count": 3,
     "metadata": {},
     "output_type": "execute_result"
    }
   ],
   "source": [
    "train_ds = datasets_dict['train']\n",
    "train_ds"
   ]
  },
  {
   "cell_type": "code",
   "execution_count": 8,
   "metadata": {},
   "outputs": [
    {
     "name": "stdout",
     "output_type": "stream",
     "text": [
      "dict_keys(['points.uni', 'points.uni.value', 'points.nss', 'points.nss.value', 'bbox', 'inputs', 'inputs_outlier_mask', 'class'])\n"
     ]
    },
    {
     "data": {
      "text/plain": [
       "dict_keys(['cate', 'obj_id', 'obj_dir', 'dep_dir', 'internal_idx', 'cls', 'viz_id', 'mode'])"
      ]
     },
     "execution_count": 8,
     "metadata": {},
     "output_type": "execute_result"
    }
   ],
   "source": [
    "print(train_ds[0][0].keys())\n",
    "train_ds[0][1].keys()\n"
   ]
  },
  {
   "cell_type": "code",
   "execution_count": 14,
   "metadata": {},
   "outputs": [
    {
     "name": "stdout",
     "output_type": "stream",
     "text": [
      "points.uni (1024, 3)\n",
      "points.uni.value (1024,)\n",
      "points.nss (1024, 3)\n",
      "points.nss.value (1024,)\n",
      "bbox (3,)\n",
      "inputs (512, 3)\n",
      "inputs_outlier_mask (512,)\n",
      "class 0\n"
     ]
    }
   ],
   "source": [
    "for k, v in train_ds[0][0].items():\n",
    "    if isinstance(v, np.ndarray):\n",
    "        print(k, v.shape)\n",
    "    else:\n",
    "        print(k, v)\n"
   ]
  }
 ],
 "metadata": {
  "kernelspec": {
   "display_name": "pytorch3d",
   "language": "python",
   "name": "python3"
  },
  "language_info": {
   "codemirror_mode": {
    "name": "ipython",
    "version": 3
   },
   "file_extension": ".py",
   "mimetype": "text/x-python",
   "name": "python",
   "nbconvert_exporter": "python",
   "pygments_lexer": "ipython3",
   "version": "3.8.18"
  }
 },
 "nbformat": 4,
 "nbformat_minor": 2
}
