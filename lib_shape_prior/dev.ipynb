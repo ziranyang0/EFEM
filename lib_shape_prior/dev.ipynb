{
 "cells": [
  {
   "cell_type": "code",
   "execution_count": null,
   "metadata": {},
   "outputs": [],
   "source": [
    "%load_ext autoreload\n",
    "%autoreload 2\n",
    "import torch\n",
    "import numpy as np\n",
    "\n",
    "from dataset import get_dataset\n",
    "from logger import Logger\n",
    "from core.models import get_model\n",
    "from core import solver_dict\n",
    "from init import get_cfg, setup_seed, dev_get_cfg\n",
    "\n",
    "# preparer configuration\n",
    "# cfg = get_cfg()\n",
    "cfg  =dev_get_cfg()\n"
   ]
  },
  {
   "cell_type": "code",
   "execution_count": null,
   "metadata": {},
   "outputs": [],
   "source": [
    "\n",
    "# set random seed\n",
    "setup_seed(cfg[\"rand_seed\"])\n",
    "\n",
    "# prepare dataset\n",
    "DatasetClass = get_dataset(cfg)\n",
    "datasets_dict = dict()\n",
    "for mode in cfg[\"modes\"]:\n",
    "    datasets_dict[mode] = DatasetClass(cfg, mode=mode)\n",
    "\n",
    "# prepare models\n",
    "ModelClass = get_model(cfg[\"model\"][\"model_name\"])\n",
    "model = ModelClass(cfg)\n",
    "\n",
    "# prepare logger\n",
    "logger = Logger(cfg)\n",
    "\n",
    "# register dataset, models, logger to the solver\n",
    "solver = solver_dict[cfg[\"runner\"].lower()](cfg, model, datasets_dict, logger)"
   ]
  },
  {
   "cell_type": "code",
   "execution_count": null,
   "metadata": {},
   "outputs": [],
   "source": [
    "\n",
    "# ckpt_path = \"/home/ziran/se3/EFEM/lib_shape_prior/log/shape_prior_mugs_old/shape_prior_mugs_dup_old_rename_at_2023-11-05-21-20-55/checkpoint/141_latest.pt\"\n",
    "# ckpt_path = \"/home/ziran/se3/EFEM/weights/mugs.pt\"\n",
    "ckpt_path = \"/home/ziran/se3/EFEM/lib_shape_prior/log/shape_prior_mugs_old/shape_prior_mugs_dup_old_rename_at_2023-11-06-22-25-35/checkpoint/5823_latest.pt\"\n",
    "ckpt = torch.load(ckpt_path)\n",
    "\n",
    "\n",
    "# 注意不是model.load_state_dict,\n",
    "# 参见 lib_shape_prior/core/solver_v2.py, lib_shape_prior/core/models/model_base.py\n",
    "\n",
    "model.network.load_state_dict(ckpt['model_state_dict'])"
   ]
  },
  {
   "cell_type": "code",
   "execution_count": null,
   "metadata": {},
   "outputs": [],
   "source": [
    "\n",
    "model.network.state_dict().keys()"
   ]
  },
  {
   "cell_type": "code",
   "execution_count": null,
   "metadata": {},
   "outputs": [],
   "source": [
    "codebook_path = \"/home/ziran/se3/EFEM/lib_shape_prior/mugs.npz\"\n",
    "with np.load(codebook_path) as data:\n",
    "    # 将 npz 文件内容转换为字典\n",
    "    codebook = {key: data[key] for key in data}\n",
    "\n",
    "print(codebook.keys())\n",
    "for k, v in codebook.items():\n",
    "    print(k, v.shape)"
   ]
  },
  {
   "cell_type": "code",
   "execution_count": null,
   "metadata": {},
   "outputs": [],
   "source": [
    "bs = 3\n",
    "pred_so3_feat = codebook['z_so3'][:bs]\n",
    "pred_inv_feat = codebook['z_inv'][:bs]\n",
    "pred_scale = codebook['scale'][:bs]\n",
    "pred_center = codebook['center'][:bs]\n",
    "query = codebook['pcl'][:bs]"
   ]
  },
  {
   "cell_type": "code",
   "execution_count": null,
   "metadata": {},
   "outputs": [],
   "source": [
    "device = \"cuda:0\"\n",
    "\n",
    "N = 64\n",
    "\n",
    "space_dim = [N, N, N]  # 示例为一个50x50x50的网格\n",
    "\n",
    "\n",
    "di = 1\n",
    "# 创建一个网格，这里我们使用np.linspace来产生线性间隔的点\n",
    "x = np.linspace(-di, di, space_dim[0])\n",
    "y = np.linspace(-di, di, space_dim[1])\n",
    "z = np.linspace(-di, di, space_dim[2])\n",
    "\n",
    "# 用np.meshgrid得到每个维度的点阵\n",
    "X, Y, Z = np.meshgrid(x, y, z, indexing='ij')\n",
    "\n",
    "# 将这些点整理成query的形式，每行是一个点的坐标\n",
    "query = np.stack([X.ravel(), Y.ravel(), Z.ravel()], axis=-1)\n",
    "\n",
    "query = torch.tensor(query,dtype=torch.float32).to(device)\n",
    "query = query.repeat(bs, 1, 1)\n",
    "query.shape"
   ]
  },
  {
   "cell_type": "code",
   "execution_count": null,
   "metadata": {},
   "outputs": [],
   "source": [
    "# query = codebook['pcl'][:bs]\n",
    "# query = torch.tensor(query).float().to(device)\n",
    "# query.shape"
   ]
  },
  {
   "cell_type": "code",
   "execution_count": null,
   "metadata": {},
   "outputs": [],
   "source": [
    "pred_so3_feat = torch.tensor(pred_so3_feat).float().to(device)\n",
    "pred_inv_feat = torch.tensor(pred_inv_feat).float().to(device)\n",
    "pred_scale = torch.tensor(pred_scale).float().to(device)\n",
    "pred_center = torch.tensor(pred_center).float().to(device)\n",
    "\n",
    "pred_so3_feat.shape\n"
   ]
  },
  {
   "cell_type": "code",
   "execution_count": null,
   "metadata": {},
   "outputs": [],
   "source": [
    "pred_scale"
   ]
  },
  {
   "cell_type": "code",
   "execution_count": null,
   "metadata": {},
   "outputs": [],
   "source": [
    "\n",
    "\n",
    "\n",
    "\n",
    "\n",
    "# query = torch.cat([input_pack[\"points.uni\"], \n",
    "#                    input_pack[\"points.nss\"]], dim=1)\n",
    "embedding = {\n",
    "            \"z_so3\": pred_so3_feat, # [B, 256, 3]\n",
    "            \"z_inv\": pred_inv_feat, # [B, 256]\n",
    "            \"s\": pred_scale, # [B]\n",
    "            # \"t\": centroid.unsqueeze(1), # [B, 1, 3]\n",
    "            \"t\": pred_center, # [B, 1, 3]\n",
    "        }\n",
    "\n",
    "sdf_hat = model.network.decode(  # SDF must have nss sampling\n",
    "            query,\n",
    "            None,\n",
    "            embedding,\n",
    "            return_sdf=True,\n",
    "        )"
   ]
  },
  {
   "cell_type": "code",
   "execution_count": null,
   "metadata": {},
   "outputs": [],
   "source": [
    "sdf_hat.shape"
   ]
  },
  {
   "cell_type": "code",
   "execution_count": null,
   "metadata": {},
   "outputs": [],
   "source": [
    "sdf_grid = sdf_hat.reshape(-1, space_dim[0], space_dim[1], space_dim[2]).to(\"cpu\").detach().numpy()"
   ]
  },
  {
   "cell_type": "code",
   "execution_count": null,
   "metadata": {},
   "outputs": [],
   "source": [
    "data = sdf_grid[2]\n",
    "\n",
    "# np.where(0-1e-1<=data and data<=0+1e-1)"
   ]
  },
  {
   "cell_type": "code",
   "execution_count": null,
   "metadata": {},
   "outputs": [],
   "source": [
    "(0-1e-1<=data).sum()"
   ]
  },
  {
   "cell_type": "code",
   "execution_count": null,
   "metadata": {},
   "outputs": [],
   "source": [
    "%matplotlib inline\n",
    "from skimage import measure\n",
    "import matplotlib.pyplot as plt\n",
    "from mpl_toolkits.mplot3d import Axes3D\n",
    "from mpl_toolkits.mplot3d.art3d import Poly3DCollection\n",
    "\n",
    "# 使用 Marching Cubes 算法提取等值面\n",
    "verts, faces, normals, values = measure.marching_cubes(data, level=0.001)\n"
   ]
  },
  {
   "cell_type": "code",
   "execution_count": null,
   "metadata": {},
   "outputs": [],
   "source": [
    "\n",
    "# 创建一个新的图形\n",
    "fig = plt.figure(figsize=(10, 10))\n",
    "ax = fig.add_subplot(111, projection='3d')\n",
    "\n",
    "# 绘制等值面\n",
    "ax.plot_trisurf(verts[:, 0], verts[:,1], faces, verts[:, 2],\n",
    "                cmap='Spectral', lw=1)\n",
    "\n",
    "# 设置图形的视角和轴标签\n",
    "ax.view_init(30, 60)\n",
    "ax.set_xlabel(\"X-axis\")\n",
    "ax.set_ylabel(\"Y-axis\")\n",
    "ax.set_zlabel(\"Z-axis\")\n",
    "\n",
    "plt.show()\n"
   ]
  },
  {
   "cell_type": "code",
   "execution_count": null,
   "metadata": {},
   "outputs": [],
   "source": [
    "import ipyvolume as ipv\n",
    "\n",
    "# Create a plot using ipyvolume\n",
    "fig = ipv.figure(width=600, height=600)\n",
    "# Plot the mesh\n",
    "mesh = ipv.plot_trisurf(verts[:, 0], verts[:, 1], verts[:, 2], triangles=faces)\n",
    "ipv.style.use('minimal') # Use minimal style\n",
    "ipv.show()\n"
   ]
  },
  {
   "cell_type": "code",
   "execution_count": null,
   "metadata": {},
   "outputs": [],
   "source": [
    "import pythreejs as p3\n",
    "\n",
    "# Convert vertices and faces to the format expected by pythreejs\n",
    "vertices_list = verts.tolist()\n",
    "faces_indices = faces.tolist()\n",
    "\n",
    "# Create the pythreejs mesh\n",
    "geom = p3.BufferGeometry(attributes={\n",
    "    'position': p3.BufferAttribute(array=vertices_list),\n",
    "    'index': p3.BufferAttribute(array=faces_indices, normalized=False)\n",
    "})\n",
    "material = p3.MeshBasicMaterial(color='gray', wireframe=True)\n",
    "mesh = p3.Mesh(geometry=geom, material=material)\n",
    "\n",
    "# Set up a scene\n",
    "scene = p3.Scene(children=[mesh, p3.AmbientLight(color='#777777')])\n",
    "\n",
    "# Set up a camera and controller\n",
    "camera = p3.PerspectiveCamera(position=[3, 3, 3], up=[0, 0, 1], aspect=600/400)\n",
    "controller = p3.OrbitControls(controlling=camera)\n",
    "scene.add(camera)\n",
    "\n",
    "# Render the scene in the notebook\n",
    "renderer = p3.Renderer(camera=camera, scene=scene, controls=[controller],\n",
    "                       width=600, height=400)\n",
    "\n",
    "renderer\n"
   ]
  },
  {
   "cell_type": "markdown",
   "metadata": {},
   "source": [
    "## load mesh"
   ]
  },
  {
   "cell_type": "code",
   "execution_count": null,
   "metadata": {},
   "outputs": [],
   "source": [
    "import trimesh\n",
    "\n",
    "# Load the mesh from the uploaded OBJ file\n",
    "# mesh_path = '/home/ziran/se3/EFEM/lib_shape_prior/log/shape_prior_mugs/mesh/epoch_1990/mesh_val_03797390_3d1754b7cb46c0ce5c8081810641ef6_0.obj'\n",
    "mesh_path = '/home/ziran/se3/EFEM/lib_shape_prior/log/shape_prior_mugs/mesh/epoch_5469/mesh_train_03797390_b9004dcda66abf95b99d2a3bbaea842a_115.obj'\n",
    "mesh = trimesh.load(mesh_path)\n",
    "\n",
    "# We can't directly visualize the mesh in this environment, but we can output some information about it\n",
    "mesh_details = {\n",
    "    'vertices': mesh.vertices,\n",
    "    'faces': mesh.faces,\n",
    "    'is_watertight': mesh.is_watertight,\n",
    "    'area': mesh.area,\n",
    "    'extents': mesh.extents,\n",
    "    'bounds': mesh.bounds\n",
    "}\n",
    "\n",
    "mesh_details['vertices'].shape, mesh_details['faces'].shape, mesh_details['is_watertight']"
   ]
  },
  {
   "cell_type": "code",
   "execution_count": null,
   "metadata": {},
   "outputs": [],
   "source": [
    "%matplotlib inline\n",
    "import numpy as np\n",
    "import matplotlib.pyplot as plt\n",
    "from mpl_toolkits.mplot3d.art3d import Poly3DCollection\n",
    "\n",
    "# Extracting the vertices and faces for plotting\n",
    "vertices = mesh.vertices\n",
    "faces = mesh.faces\n",
    "\n",
    "# Create a new figure\n",
    "fig = plt.figure(figsize=(10, 10))\n",
    "ax = fig.add_subplot(111, projection='3d')\n",
    "\n",
    "# Fancy indexing: `vertices[faces]` to generate a collection of triangles\n",
    "mesh_collection = Poly3DCollection(vertices[faces])\n",
    "mesh_collection.set_edgecolor('k')\n",
    "\n",
    "ax.add_collection3d(mesh_collection)\n",
    "\n",
    "# Auto scale to the mesh size\n",
    "scale = np.concatenate([vertices.min(axis=0), vertices.max(axis=0)]).flatten()\n",
    "ax.auto_scale_xyz(scale, scale, scale)\n",
    "\n",
    "# Show the plot\n",
    "plt.show()"
   ]
  },
  {
   "cell_type": "markdown",
   "metadata": {},
   "source": [
    "## load PC"
   ]
  },
  {
   "cell_type": "code",
   "execution_count": null,
   "metadata": {},
   "outputs": [],
   "source": [
    "# file_path = '/home/ziran/se3/EFEM/lib_shape_prior/log/shape_prior_mugs/mesh/epoch_1990/input_train_03797390_2037531c43448c3016329cbc378d2a2_106.txt'\n",
    "file_path = '/home/ziran/se3/EFEM/lib_shape_prior/log/shape_prior_mugs/mesh/epoch_5469/input_train_03797390_b9004dcda66abf95b99d2a3bbaea842a_115.txt'\n",
    "\n",
    "import matplotlib.pyplot as plt\n",
    "from mpl_toolkits.mplot3d import Axes3D\n",
    "import numpy as np\n",
    "\n",
    "# Parse the point cloud data\n",
    "points = np.loadtxt(file_path)\n",
    "\n",
    "# Create a new figure for the 3D plot\n",
    "fig = plt.figure(figsize=(10, 7))\n",
    "ax = fig.add_subplot(111, projection='3d')\n",
    "\n",
    "# Scatter plot\n",
    "ax.scatter(points[:, 0], points[:, 1], points[:, 2])\n",
    "\n",
    "# Set labels\n",
    "ax.set_xlabel('X Label')\n",
    "ax.set_ylabel('Y Label')\n",
    "ax.set_zlabel('Z Label')\n",
    "\n",
    "# Show plot\n",
    "plt.show()\n",
    "\n"
   ]
  },
  {
   "cell_type": "code",
   "execution_count": null,
   "metadata": {},
   "outputs": [],
   "source": [
    "# We will plot the point cloud from three different representative viewpoints.\n",
    "\n",
    "# Function to create 3D scatter plot with a given azimuth and elevation\n",
    "def plot_3d_scatter(ax, azim, elev):\n",
    "    # Clear current axes\n",
    "    ax.cla()\n",
    "    \n",
    "    # Scatter plot\n",
    "    ax.scatter(points[:, 0], points[:, 1], points[:, 2])\n",
    "\n",
    "    # Set labels\n",
    "    ax.set_xlabel('X Label')\n",
    "    ax.set_ylabel('Y Label')\n",
    "    ax.set_zlabel('Z Label')\n",
    "\n",
    "    # Set the view angle\n",
    "    ax.view_init(azim=azim, elev=elev)\n",
    "\n",
    "# Create a new figure for the 3D plot\n",
    "fig = plt.figure(figsize=(15, 15))\n",
    "\n",
    "# Three different angles: (1) top view, (2) side view, (3) front view\n",
    "angles = [(0, 30), (45, 30), (90, 30)]\n",
    "\n",
    "# Create subplots for each view\n",
    "for i, angle in enumerate(angles, start=1):\n",
    "    ax = fig.add_subplot(2, 2, i, projection='3d')\n",
    "    plot_3d_scatter(ax, *angle)\n",
    "\n",
    "# Show the plots\n",
    "plt.tight_layout()\n",
    "plt.show()\n"
   ]
  },
  {
   "cell_type": "markdown",
   "metadata": {},
   "source": [
    "## codebook\n"
   ]
  },
  {
   "cell_type": "code",
   "execution_count": null,
   "metadata": {},
   "outputs": [],
   "source": []
  }
 ],
 "metadata": {
  "kernelspec": {
   "display_name": "pytorch3d",
   "language": "python",
   "name": "python3"
  },
  "language_info": {
   "codemirror_mode": {
    "name": "ipython",
    "version": 3
   },
   "file_extension": ".py",
   "mimetype": "text/x-python",
   "name": "python",
   "nbconvert_exporter": "python",
   "pygments_lexer": "ipython3",
   "version": "3.8.18"
  }
 },
 "nbformat": 4,
 "nbformat_minor": 2
}
