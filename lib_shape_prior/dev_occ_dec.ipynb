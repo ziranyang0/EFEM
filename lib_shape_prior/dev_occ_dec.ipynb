{
 "cells": [
  {
   "cell_type": "code",
   "execution_count": 1,
   "metadata": {},
   "outputs": [
    {
     "name": "stdout",
     "output_type": "stream",
     "text": [
      "Using device: cuda:3\n"
     ]
    },
    {
     "data": {
      "text/plain": [
       "<torch._C.Generator at 0x7f702297f390>"
      ]
     },
     "execution_count": 1,
     "metadata": {},
     "output_type": "execute_result"
    }
   ],
   "source": [
    "%load_ext autoreload\n",
    "%autoreload 2\n",
    "%matplotlib inline\n",
    "\n",
    "import numpy as np\n",
    "import torch\n",
    "from tqdm.notebook import tqdm, trange\n",
    "from viz_x import viz_pc, viz_sdf, viz_code, viz_x_img, viz_x\n",
    "\n",
    "from ddpm import LatentDiffusionModel, CustomDataset, get_ddpm_scheduler_variables, extract\n",
    "\n",
    "timesteps = 1000\n",
    "timesteps, betas, alphas, alphas_cumprod, alphas_cumprod_prev, sqrt_recip_alphas, sqrt_alphas_cumprod, sqrt_one_minus_alphas_cumprod, posterior_variance = get_ddpm_scheduler_variables(timesteps=timesteps)\n",
    "\n",
    "device = torch.device('cuda:3' if torch.cuda.is_available() else 'cpu')\n",
    "print('Using device:', device)\n",
    "torch.manual_seed(1984)"
   ]
  },
  {
   "cell_type": "code",
   "execution_count": 2,
   "metadata": {},
   "outputs": [
    {
     "name": "stderr",
     "output_type": "stream",
     "text": [
      "WARNING:root:Network Components != Optimizer Config\n"
     ]
    },
    {
     "name": "stdout",
     "output_type": "stream",
     "text": [
      "z_so3 (149, 256, 3)\n",
      "z_inv (149, 256)\n",
      "center (149, 1, 3)\n",
      "scale (149,)\n",
      "z_so3_proj (149, 256, 3)\n",
      "z_so3_basis (149, 3, 3)\n",
      "z_so3_var (149, 3)\n",
      "bbox (149, 3)\n",
      "bbox_c (149, 3)\n",
      "pcl (149, 5000, 3)\n",
      "cls (149,)\n",
      "========== Data Normalization BEGIN ==========\n",
      "z_so3_mean tensor(0.0039)\n",
      "z_so3_std tensor(0.0359)\n",
      "z_inv_mean tensor(-0.0006)\n",
      "z_inv_std tensor(0.0132)\n",
      "========== Data Normalization FINISHED ==========\n"
     ]
    }
   ],
   "source": [
    "from init import get_AEmodel_cfg\n",
    "from core.models import get_model\n",
    "category = \"mugs\"\n",
    "config_Only_model = get_AEmodel_cfg()\n",
    "ModelClass = get_model(config_Only_model[\"model\"][\"model_name\"])\n",
    "model = ModelClass(config_Only_model)\n",
    "ckpt_path = f\"/home/ziran/se3/EFEM/weights/{category}.pt\"\n",
    "ckpt = torch.load(ckpt_path)\n",
    "model.network.load_state_dict(ckpt['model_state_dict'])\n",
    "model.network = model.network.to(device)\n",
    "\n",
    "codebook_path = f\"/home/ziran/se3/EFEM/cache/mugs.npz\"\n",
    "train_ds = CustomDataset(codebook_path, normalization=True)\n",
    "\n",
    "bs = 3"
   ]
  },
  {
   "cell_type": "markdown",
   "metadata": {},
   "source": [
    "## sdf decoder"
   ]
  },
  {
   "cell_type": "code",
   "execution_count": 21,
   "metadata": {},
   "outputs": [],
   "source": [
    "N = 11\n",
    "di = 1\n",
    "normal_params = train_ds.normal_params\n",
    "x_gt = train_ds[2][0].unsqueeze(0).repeat(bs, 1, 1).to(device=device, dtype=torch.float32)\n",
    "\n",
    "pred_scale = (torch.ones(bs) + 0.2).to(device)\n",
    "pred_center = torch.zeros(bs, 1, 3).to(device)\n",
    "\n",
    "space_dim = [N, N, N]\n",
    "x = np.linspace(-di, di, space_dim[0])\n",
    "y = np.linspace(-di, di, space_dim[1])\n",
    "z = np.linspace(-di, di, space_dim[2])\n"
   ]
  },
  {
   "cell_type": "code",
   "execution_count": 22,
   "metadata": {},
   "outputs": [
    {
     "data": {
      "text/plain": [
       "array([[-1. , -1. , -1. ],\n",
       "       [-1. , -1. , -0.8],\n",
       "       [-1. , -1. , -0.6],\n",
       "       ...,\n",
       "       [ 1. ,  1. ,  0.6],\n",
       "       [ 1. ,  1. ,  0.8],\n",
       "       [ 1. ,  1. ,  1. ]])"
      ]
     },
     "execution_count": 22,
     "metadata": {},
     "output_type": "execute_result"
    }
   ],
   "source": [
    "X, Y, Z = np.meshgrid(x, y, z, indexing='ij')\n",
    "viz_query = np.stack([X.ravel(), Y.ravel(), Z.ravel()], axis=-1)\n",
    "viz_query"
   ]
  },
  {
   "cell_type": "code",
   "execution_count": 23,
   "metadata": {},
   "outputs": [],
   "source": [
    "viz_query = torch.tensor(viz_query,dtype=torch.float32).to(device)\n",
    "viz_query = viz_query.repeat(bs, 1, 1)\n",
    "with torch.no_grad():\n",
    "    pred_so3_feat, pred_inv_feat = x_gt[:,:,:3].detach(), x_gt[:,:,3].detach()\n",
    "    if normal_params is not None:\n",
    "        pred_so3_feat = pred_so3_feat * normal_params[\"z_so3_std\"] + normal_params[\"z_so3_mean\"]\n",
    "        pred_inv_feat = pred_inv_feat * normal_params[\"z_inv_std\"] + normal_params[\"z_inv_mean\"]\n",
    "    embedding = {\n",
    "        \"z_so3\": pred_so3_feat, # [B, 256, 3]\n",
    "        \"z_inv\": pred_inv_feat, # [B, 256]\n",
    "        \"s\": pred_scale, # [B]\n",
    "        \"t\": pred_center, # [B, 1, 3]\n",
    "    }\n",
    "    sdf_gt = model.network.decode(viz_query, None, embedding, return_sdf=False)  "
   ]
  },
  {
   "cell_type": "code",
   "execution_count": 26,
   "metadata": {},
   "outputs": [
    {
     "data": {
      "text/plain": [
       "-1.0"
      ]
     },
     "execution_count": 26,
     "metadata": {},
     "output_type": "execute_result"
    }
   ],
   "source": [
    "model.network.sdf2occ_factor"
   ]
  },
  {
   "cell_type": "code",
   "execution_count": 30,
   "metadata": {},
   "outputs": [
    {
     "data": {
      "text/plain": [
       "torch.Size([3, 1331])"
      ]
     },
     "execution_count": 30,
     "metadata": {},
     "output_type": "execute_result"
    }
   ],
   "source": [
    "type(sdf_gt)\n",
    "torch.sigmoid(sdf_gt.logits).shape"
   ]
  },
  {
   "cell_type": "code",
   "execution_count": 19,
   "metadata": {},
   "outputs": [
    {
     "name": "stdout",
     "output_type": "stream",
     "text": [
      "tensor(-0.0088, device='cuda:3') tensor(0.7683, device='cuda:3') tensor(0.4781, device='cuda:3')\n"
     ]
    }
   ],
   "source": [
    "sdf_gt.shape\n",
    "print(sdf_gt.min(), sdf_gt.max(), sdf_gt.mean())"
   ]
  },
  {
   "cell_type": "code",
   "execution_count": null,
   "metadata": {},
   "outputs": [],
   "source": [
    "(sdf_gt < 1e-4).sum()/3000"
   ]
  }
 ],
 "metadata": {
  "kernelspec": {
   "display_name": "pytorch3d",
   "language": "python",
   "name": "python3"
  },
  "language_info": {
   "codemirror_mode": {
    "name": "ipython",
    "version": 3
   },
   "file_extension": ".py",
   "mimetype": "text/x-python",
   "name": "python",
   "nbconvert_exporter": "python",
   "pygments_lexer": "ipython3",
   "version": "3.8.18"
  }
 },
 "nbformat": 4,
 "nbformat_minor": 2
}
