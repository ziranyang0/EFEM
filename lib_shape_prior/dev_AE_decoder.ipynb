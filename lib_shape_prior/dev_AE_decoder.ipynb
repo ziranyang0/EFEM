{
 "cells": [
  {
   "cell_type": "code",
   "execution_count": 1,
   "metadata": {},
   "outputs": [
    {
     "name": "stdout",
     "output_type": "stream",
     "text": [
      "Using device: cuda:4\n"
     ]
    },
    {
     "name": "stderr",
     "output_type": "stream",
     "text": [
      "WARNING:root:Network Components != Optimizer Config\n"
     ]
    }
   ],
   "source": [
    "%load_ext autoreload\n",
    "%autoreload 2\n",
    "%matplotlib inline\n",
    "\n",
    "import numpy as np\n",
    "import torch\n",
    "import torch.nn.functional as F\n",
    "from tqdm.notebook import tqdm, trange\n",
    "\n",
    "device = torch.device('cuda:4' if torch.cuda.is_available() else 'cpu')\n",
    "print('Using device:', device)\n",
    "torch.manual_seed(1984)\n",
    "\n",
    "\n",
    "from init import get_AEmodel_cfg\n",
    "from core.models import get_model\n",
    "category = \"mugs\"\n",
    "# category = \"kit4cates\"\n",
    "# category = \"chairs\"\n",
    "config_Only_model = get_AEmodel_cfg()\n",
    "ModelClass = get_model(config_Only_model[\"model\"][\"model_name\"])\n",
    "model = ModelClass(config_Only_model)\n",
    "ckpt_path = f\"/home/ziran/se3/EFEM/weights/{category}.pt\"\n",
    "ckpt = torch.load(ckpt_path)\n",
    "model.network.load_state_dict(ckpt['model_state_dict'])\n",
    "model.network = model.network.to(device)\n",
    "\n",
    "bs = 1\n"
   ]
  },
  {
   "cell_type": "code",
   "execution_count": null,
   "metadata": {},
   "outputs": [],
   "source": [
    "import pickle\n",
    "with open(f'./dev_utils/test.sdf', 'rb') as f:\n",
    "    result = pickle.load(f)\n",
    "# 分离点云位置和SDF值\n",
    "points = result['sdf'][:, :3]  # 取前三列为点云位置\n",
    "sdf_values = result['sdf'][:, 3]  # 取第四列为SDF值\n",
    "normals = result['normals']\n",
    "# 检查结果\n",
    "print(\"Points shape:\", points.shape)\n",
    "print(\"SDF Values shape:\", sdf_values.shape)\n",
    "print(\"Normals shape:\", normals.shape)\n",
    "\n",
    "query = torch.from_numpy(points).unsqueeze(0).repeat(bs, 1, 1).to(device=device, dtype=torch.float32)\n",
    "sdf_values = torch.from_numpy(sdf_values).unsqueeze(0).repeat(bs, 1).to(device=device, dtype=torch.float32)\n",
    "query_mask = torch.ones(query.shape[:2]).bool()\n",
    "normals = torch.from_numpy(normals).unsqueeze(0).repeat(bs, 1, 1).to(device=device, dtype=torch.float32)\n",
    "print(\"query max,min: \",query.max(), query.min())\n",
    "print(\"query_sdf max,min: \",sdf_values.max(), sdf_values.min())\n",
    "query.shape, query_mask.shape, sdf_values.shape"
   ]
  },
  {
   "cell_type": "code",
   "execution_count": null,
   "metadata": {},
   "outputs": [],
   "source": [
    "def get_recon_score(decoder_input, sdf_gt):\n",
    "    sdf_hat = model.network.decode(\n",
    "        None,\n",
    "        None,\n",
    "        None,\n",
    "        return_sdf=True,\n",
    "        decoder_input = decoder_input\n",
    "    )\n",
    "\n",
    "    total_loss = torch.mean(torch.abs(sdf_hat - sdf_gt))\n",
    "    return total_loss"
   ]
  }
 ],
 "metadata": {
  "kernelspec": {
   "display_name": "pytorch3d",
   "language": "python",
   "name": "python3"
  },
  "language_info": {
   "codemirror_mode": {
    "name": "ipython",
    "version": 3
   },
   "file_extension": ".py",
   "mimetype": "text/x-python",
   "name": "python",
   "nbconvert_exporter": "python",
   "pygments_lexer": "ipython3",
   "version": "3.8.18"
  }
 },
 "nbformat": 4,
 "nbformat_minor": 2
}
