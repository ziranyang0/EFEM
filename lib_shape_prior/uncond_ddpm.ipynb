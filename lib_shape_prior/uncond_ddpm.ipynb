{
  "cells": [
    {
      "cell_type": "markdown",
      "id": "c5a94671",
      "metadata": {
        "id": "c5a94671"
      },
      "source": [
        "# \n",
        "https://colab.research.google.com/github/huggingface/notebooks/blob/main/examples/annotated_diffusion.ipynb#scrollTo=cc57b01f"
      ]
    },
    {
      "cell_type": "code",
      "execution_count": null,
      "id": "a1f2d714",
      "metadata": {
        "id": "a1f2d714"
      },
      "outputs": [],
      "source": [
        "%load_ext autoreload\n",
        "%autoreload 2\n",
        "\n",
        "import numpy as np\n",
        "\n",
        "import math\n",
        "from inspect import isfunction\n",
        "from functools import partial\n",
        "\n",
        "%matplotlib inline\n",
        "import matplotlib.pyplot as plt\n",
        "from tqdm.auto import tqdm\n",
        "from einops import rearrange\n",
        "\n",
        "import torch\n",
        "from torch import nn, einsum\n",
        "import torch.nn.functional as F\n",
        "\n",
        "from ddpm import *"
      ]
    },
    {
      "cell_type": "code",
      "execution_count": null,
      "id": "42093c2d",
      "metadata": {},
      "outputs": [],
      "source": [
        "device = torch.device('cuda:7' if torch.cuda.is_available() else 'cpu')\n",
        "print('Using device:', device)\n",
        "torch.manual_seed(1984)\n",
        "\n",
        "# 初始化模型\n",
        "latent_dim = 256\n",
        "hidden_dims = [2048, 2048, 2048, 2048] \n",
        "max_freq = 4  # Example max frequency for Fourier features\n",
        "num_bands = 4  # Number of frequency bands\n",
        "scalar_hidden_dims = [256,256,256,256]\n",
        "diffusion_model = LatentDiffusionModel(latent_dim, hidden_dims, scalar_hidden_dims, max_freq, num_bands).to(device)\n",
        "diffusion_ckpt_path = \"/home/ziran/se3/EFEM/lib_shape_prior/dev_ckpt/mugs_ddpm_cos_20k_test1/model.pth\"\n",
        "# diffusion_ckpt_path = \"/home/ziran/se3/EFEM/lib_shape_prior/dev_ckpt/mugs_ddpm_cos_20k_l2loss/model.pth\"\n",
        "# diffusion_ckpt_path = \"/home/ziran/se3/EFEM/lib_shape_prior/dev_ckpt/chairs_vnhead_residual_2048*4_cos_10k/model.pth\"\n",
        "diffusion_ckpt = torch.load(diffusion_ckpt_path)\n",
        "diffusion_model.load_state_dict(diffusion_ckpt['model'])\n",
        "diffusion_model = diffusion_model.to(device)\n",
        "print('Diffusion Model parameters:', sum(p.numel() for p in diffusion_model.parameters()))"
      ]
    },
    {
      "cell_type": "code",
      "execution_count": null,
      "id": "2111920c",
      "metadata": {},
      "outputs": [],
      "source": [
        "bs = 3\n",
        "trajs = uncond_p_sample_loop(model=diffusion_model, shape=(bs, 256, 4), return_traj=True)"
      ]
    },
    {
      "cell_type": "code",
      "execution_count": null,
      "id": "a568de62",
      "metadata": {},
      "outputs": [],
      "source": [
        "from core.models import get_model\n",
        "from dataset import get_dataset\n",
        "from init import get_cfg, setup_seed, dev_get_cfg\n",
        "\n",
        "# preparer configuration\n",
        "category = \"mugs\"\n",
        "# category = \"kit4cates\"\n",
        "# category = \"chairs\"\n",
        "cfg  =dev_get_cfg(category)\n",
        "# prepare models\n",
        "ModelClass = get_model(cfg[\"model\"][\"model_name\"])\n",
        "model = ModelClass(cfg)\n",
        "ckpt_path = f\"/home/ziran/se3/EFEM/weights/{category}.pt\"\n",
        "ckpt = torch.load(ckpt_path)\n",
        "model.network.load_state_dict(ckpt['model_state_dict'])\n",
        "model.network.to(device)\n",
        "\n",
        "# prepare dataset\n",
        "DatasetClass = get_dataset(cfg)\n",
        "datasets_dict = dict()\n",
        "for mode in cfg[\"modes\"]:\n",
        "    datasets_dict[mode] = DatasetClass(cfg, mode=mode)\n",
        "\n",
        "train_ds = datasets_dict[\"train\"]"
      ]
    },
    {
      "cell_type": "code",
      "execution_count": null,
      "id": "6a36c82f",
      "metadata": {},
      "outputs": [],
      "source": [
        "# fakes_x, fakes_s = sample_xs(diffusion_model, noise_x, noise_s, steps, eta)\n",
        "\n",
        "fakes_x, fakes_s = torch.from_numpy(trajs[-1][:,:,:3]), torch.from_numpy(trajs[-1][:,:,3])\n",
        "\n",
        "query_start = 0\n",
        "query_end = bs\n",
        "pred_so3_feat = fakes_x[query_start:query_end,:, :].to(device)\n",
        "pred_inv_feat = fakes_s[query_start:query_end,:].to(device)\n",
        "pred_scale = (torch.ones((query_end-query_start)) + 0.2).to(device)\n",
        "pred_center = torch.zeros(query_end-query_start, 1, 3).to(device)\n",
        "\n",
        "print(pred_so3_feat.shape, pred_inv_feat.shape, pred_scale.shape, pred_center.shape)"
      ]
    },
    {
      "cell_type": "code",
      "execution_count": null,
      "id": "109b224a",
      "metadata": {},
      "outputs": [],
      "source": [
        "len(trajs)"
      ]
    },
    {
      "cell_type": "code",
      "execution_count": null,
      "id": "ecd24a8f",
      "metadata": {},
      "outputs": [],
      "source": [
        "time_slice = slice(980, 1001, 1)\n",
        "# trajs[time_slice]\n",
        "sample_idx = 0\n",
        "fakes_x, fakes_s = np.stack(trajs[time_slice])[:,sample_idx,:,:3], np.stack(trajs[time_slice])[:,sample_idx,:,3]\n",
        "# fakes_x.shape"
      ]
    },
    {
      "cell_type": "code",
      "execution_count": null,
      "id": "a62fc340",
      "metadata": {},
      "outputs": [],
      "source": [
        "fakes_x = torch.from_numpy(fakes_x).to(device)\n",
        "fakes_s = torch.from_numpy(fakes_s).to(device)\n",
        "\n",
        "query_start = 0\n",
        "query_end = 20\n",
        "pred_so3_feat = fakes_x[query_start:query_end,:, :].to(device)\n",
        "pred_inv_feat = fakes_s[query_start:query_end,:].to(device)\n",
        "pred_scale = (torch.ones((query_end-query_start)) + 0.2).to(device)\n",
        "pred_center = torch.zeros(query_end-query_start, 1, 3).to(device)\n",
        "\n",
        "print(pred_so3_feat.shape, pred_inv_feat.shape, pred_scale.shape, pred_center.shape)"
      ]
    },
    {
      "cell_type": "code",
      "execution_count": null,
      "id": "96ae6bb5",
      "metadata": {},
      "outputs": [],
      "source": [
        "torch.cuda.empty_cache()\n",
        "\n",
        "N = 50\n",
        "space_dim = [N, N, N]  # 示例为一个50x50x50的网格\n",
        "\n",
        "\n",
        "di = 1\n",
        "# 创建一个网格，这里我们使用np.linspace来产生线性间隔的点\n",
        "x = np.linspace(-di, di, space_dim[0])\n",
        "y = np.linspace(-di, di, space_dim[1])\n",
        "z = np.linspace(-di, di, space_dim[2])\n",
        "\n",
        "# 用np.meshgrid得到每个维度的点阵\n",
        "X, Y, Z = np.meshgrid(x, y, z, indexing='ij')\n",
        "\n",
        "# 将这些点整理成query的形式，每行是一个点的坐标\n",
        "viz_query = np.stack([X.ravel(), Y.ravel(), Z.ravel()], axis=-1)\n",
        "\n",
        "viz_query = torch.tensor(viz_query,dtype=torch.float32).to(device)\n",
        "viz_query = viz_query.repeat(pred_so3_feat.shape[0], 1, 1)\n",
        "viz_query.shape"
      ]
    },
    {
      "cell_type": "code",
      "execution_count": null,
      "id": "5514804c",
      "metadata": {},
      "outputs": [],
      "source": [
        "with torch.no_grad():\n",
        "    embedding = {\n",
        "        \"z_so3\": pred_so3_feat, # [B, 256, 3]\n",
        "        \"z_inv\": pred_inv_feat, # [B, 256]\n",
        "        \"s\": pred_scale, # [B]\n",
        "        # \"t\": centroid.unsqueeze(1), # [B, 1, 3]\n",
        "        \"t\": pred_center, # [B, 1, 3]\n",
        "    }\n",
        "\n",
        "    sdf_hat = model.network.decode(  # SDF must have nss sampling\n",
        "        viz_query,\n",
        "        None,\n",
        "        embedding,\n",
        "        return_sdf=True,\n",
        "    )\n",
        "    sdf_grid = sdf_hat.reshape(-1, space_dim[0], space_dim[1], space_dim[2]).to(\"cpu\").detach().numpy()\n"
      ]
    },
    {
      "cell_type": "code",
      "execution_count": null,
      "id": "c276a0fc",
      "metadata": {},
      "outputs": [],
      "source": [
        "sdf_grid_list = []\n",
        "sdf_grid_list.append(sdf_grid)"
      ]
    },
    {
      "cell_type": "code",
      "execution_count": null,
      "id": "ad828833",
      "metadata": {},
      "outputs": [],
      "source": [
        "%matplotlib inline\n",
        "for idx in range(len(sdf_grid_list[0])):\n",
        "    for sdf_grid in sdf_grid_list:\n",
        "        # print(\"sdf shape\",sdf_hat.shape)\n",
        "        data = sdf_grid[idx]\n",
        "        # print(\"sample shape: \", data.shape)\n",
        "\n",
        "\n",
        "        # pointcloud = query[idx].to(\"cpu\").detach().numpy()\n",
        "        # # print(\"pointcloud shape before mask: \", pointcloud.shape)\n",
        "\n",
        "        # pointcloud = pointcloud[query_mask[idx].to(\"cpu\").detach().numpy()]\n",
        "        # # print(\"pointcloud shape AFTER mask: \", pointcloud.shape)\n",
        "        from skimage import measure\n",
        "        import matplotlib.pyplot as plt\n",
        "        import plotly\n",
        "        import plotly.graph_objs as go\n",
        "        plotly.offline.init_notebook_mode()\n",
        "\n",
        "\n",
        "        # pc_x, pc_y, pc_z = pointcloud[:, 0], pointcloud[:, 1], pointcloud[:, 2]\n",
        "\n",
        "\n",
        "        # 使用 Marching Cubes 算法提取等值面\n",
        "        print(\"Max:\", data.max(), \"Min\", data.min())\n",
        "        verts, faces, normals, values = measure.marching_cubes(data, level=max(data.min()+0.,0.01))\n",
        "        verts = (verts / (N - 1)) * 2 - 1\n",
        "\n",
        "        x, y, z = zip(*verts)\n",
        "        i, j, k = zip(*faces)\n",
        "\n",
        "        # 创建 mesh3d 图表\n",
        "        mesh = go.Mesh3d(\n",
        "            x=x, y=y, z=z,\n",
        "            i=i, j=j, k=k,\n",
        "            opacity=0.5,\n",
        "            name='Mesh'\n",
        "        )\n",
        "\n",
        "        # # 创建点云图表\n",
        "        # pointcloud_plot = go.Scatter3d(\n",
        "        #     x=pc_x, y=pc_y, z=pc_z,\n",
        "        #     mode='markers',\n",
        "        #     marker=dict(\n",
        "        #         size=2,\n",
        "        #         opacity=0.8\n",
        "        #     ),\n",
        "        #     name='Point Cloud'\n",
        "        # )\n",
        "\n",
        "        # 创建图表布局\n",
        "        layout = go.Layout(\n",
        "            title='3D Mesh and Point Cloud Visualization',\n",
        "            scene=dict(\n",
        "                xaxis=dict(title='X'),\n",
        "                yaxis=dict(title='Y'),\n",
        "                zaxis=dict(title='Z')\n",
        "            )\n",
        "        )\n",
        "\n",
        "        # 合并图表并显示\n",
        "        # fig = go.Figure(data=[mesh, pointcloud_plot], layout=layout)\n",
        "        fig = go.Figure(data=[mesh], layout=layout)\n",
        "        plotly.offline.iplot(fig)\n",
        "\n",
        "\n"
      ]
    },
    {
      "cell_type": "code",
      "execution_count": null,
      "id": "411f6778",
      "metadata": {},
      "outputs": [],
      "source": []
    },
    {
      "cell_type": "code",
      "execution_count": null,
      "id": "1e4187f1",
      "metadata": {},
      "outputs": [],
      "source": []
    }
  ],
  "metadata": {
    "colab": {
      "collapsed_sections": [
        "6fe49a34",
        "2d747688",
        "5153024b",
        "592aa765",
        "9ff47fbb",
        "51d9a24c",
        "9a8031b0",
        "06b3fad0",
        "a30368b2",
        "cc01c63b",
        "f70235f8",
        "b02eb802"
      ],
      "name": "annotated-diffusion.ipynb",
      "provenance": []
    },
    "jupytext": {
      "cell_metadata_filter": "-all",
      "main_language": "python",
      "notebook_metadata_filter": "-all"
    },
    "kernelspec": {
      "display_name": "Python 3 (ipykernel)",
      "language": "python",
      "name": "python3"
    },
    "language_info": {
      "codemirror_mode": {
        "name": "ipython",
        "version": 3
      },
      "file_extension": ".py",
      "mimetype": "text/x-python",
      "name": "python",
      "nbconvert_exporter": "python",
      "pygments_lexer": "ipython3",
      "version": "3.8.18"
    }
  },
  "nbformat": 4,
  "nbformat_minor": 5
}
